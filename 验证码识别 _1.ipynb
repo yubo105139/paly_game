{
 "cells": [
  {
   "cell_type": "markdown",
   "metadata": {},
   "source": [
    "# 数据读取，和预处理"
   ]
  },
  {
   "cell_type": "code",
   "execution_count": 5,
   "metadata": {
    "ExecuteTime": {
     "end_time": "2019-11-19T15:58:53.451258Z",
     "start_time": "2019-11-19T15:58:53.283732Z"
    }
   },
   "outputs": [],
   "source": [
    "import os\n",
    "import cv2\n",
    "import pandas as pd \n",
    "import numpy as np\n",
    "import tensorflow as tf\n",
    "import matplotlib.pyplot as plt\n",
    "%matplotlib inline"
   ]
  },
  {
   "cell_type": "code",
   "execution_count": null,
   "metadata": {
    "ExecuteTime": {
     "end_time": "2019-11-19T14:01:07.187310Z",
     "start_time": "2019-11-19T14:01:07.174376Z"
    }
   },
   "outputs": [],
   "source": [
    "path = 'train/'\n",
    "datas = pd.read_csv(path+'train_label.csv')"
   ]
  },
  {
   "cell_type": "code",
   "execution_count": null,
   "metadata": {
    "ExecuteTime": {
     "end_time": "2019-11-19T14:01:08.177697Z",
     "start_time": "2019-11-19T14:01:08.165703Z"
    }
   },
   "outputs": [],
   "source": [
    "datas.head(n=5)"
   ]
  },
  {
   "cell_type": "markdown",
   "metadata": {
    "heading_collapsed": true
   },
   "source": [
    "### 读取csv"
   ]
  },
  {
   "cell_type": "code",
   "execution_count": null,
   "metadata": {
    "ExecuteTime": {
     "end_time": "2019-11-19T11:53:24.770495Z",
     "start_time": "2019-11-19T11:53:24.764511Z"
    },
    "hidden": true
   },
   "outputs": [],
   "source": [
    "class CSVDataReader:\n",
    "    def __init__(self,csv_path,batch_size):\n",
    "        self.batch_size = batch_size\n",
    "        # 构造文件名路径队列\n",
    "        self.file_path_queue = tf.train.string_input_producer([csv_path])\n",
    "    def get(self):\n",
    "        reader = tf.TextLineReader()\n",
    "        #从文件路径中读取文件名，并取出文件的每一行\n",
    "        _, value = reader.read(self.file_path_queue)\n",
    "        # 设置每一行的默认值\n",
    "        record_defaults = [[''], ['']]\n",
    "        # 解析csv文件的每一行\n",
    "        img_path_tf, img_label_tf = tf.decode_csv(value, record_defaults)\n",
    "        tensors = [[img_path_tf,img_label_tf]]\n",
    "        img_path_batch,img_label_batch = tf.train.shuffle_batch_join(tensors,\n",
    "                                                                     batch_size=self.batch_size,\n",
    "                                                                     capacity = 100,\n",
    "                                                                     min_after_dequeue=20,\n",
    "                                                                    enqueue_many=False)\n",
    "        \n",
    "#         img_path_batch,img_label_batch = tf.train.batch_join(tensors,\n",
    "#                                                              batch_size=self.batch_size,\n",
    "#                                                              capacity = 100,\n",
    "#                                                             enqueue_many=False)\n",
    "        \n",
    "        return img_path_batch,img_label_batch\n",
    "\n",
    "              \n",
    "    "
   ]
  },
  {
   "cell_type": "code",
   "execution_count": null,
   "metadata": {
    "ExecuteTime": {
     "end_time": "2019-11-19T11:53:25.264205Z",
     "start_time": "2019-11-19T11:53:25.247220Z"
    },
    "hidden": true
   },
   "outputs": [],
   "source": [
    "#从datasets/csv_data.csv文件中读取数据，设置BatchSize为6\n",
    "dataReader=CSVDataReader('train/train_label.csv',4)\n",
    "img_path_batch,img_label_batch =dataReader.get()"
   ]
  },
  {
   "cell_type": "code",
   "execution_count": null,
   "metadata": {
    "ExecuteTime": {
     "end_time": "2019-11-19T11:53:26.465959Z",
     "start_time": "2019-11-19T11:53:26.160776Z"
    },
    "hidden": true
   },
   "outputs": [],
   "source": [
    "with tf.Session() as sess: \n",
    "    coord = tf.train.Coordinator()\n",
    "    #启动所有队列线程，使得每个队列源源不断执行入队和出队\n",
    "    threads = tf.train.start_queue_runners(coord=coord)\n",
    "\n",
    "    img_path_batchs,img_label_batchs = sess.run([img_path_batch,img_label_batch])\n",
    "    for img_path_batchs_v,img_label_batchs_v in zip(img_path_batchs,img_label_batchs):\n",
    "        print(img_path_batchs_v.decode(),img_label_batchs_v.decode())\n",
    "\n",
    "    coord.request_stop()\n",
    "    coord.join(threads)  "
   ]
  },
  {
   "cell_type": "code",
   "execution_count": null,
   "metadata": {
    "hidden": true
   },
   "outputs": [],
   "source": []
  },
  {
   "cell_type": "markdown",
   "metadata": {},
   "source": [
    "###  读取和生成tfrecord"
   ]
  },
  {
   "cell_type": "code",
   "execution_count": 3,
   "metadata": {
    "ExecuteTime": {
     "end_time": "2019-11-19T15:50:03.536572Z",
     "start_time": "2019-11-19T15:50:03.532582Z"
    }
   },
   "outputs": [],
   "source": [
    "import tensorflow as tf\n",
    "import cv2\n",
    "# 图片的长度和宽度\n",
    "width = 120\n",
    "height = 40\n",
    "# 每个验证码所包含的字符数\n",
    "word_len = 4 "
   ]
  },
  {
   "cell_type": "code",
   "execution_count": null,
   "metadata": {
    "ExecuteTime": {
     "end_time": "2019-11-19T15:47:50.089175Z",
     "start_time": "2019-11-19T15:47:47.401260Z"
    }
   },
   "outputs": [],
   "source": [
    "class TFRecordWriter:\n",
    "    def __init__(self,tfrecord_path,path):\n",
    "        self.tfrecord_path=tfrecord_path\n",
    "        self.path = path\n",
    "    def write(self):\n",
    "        writer = tf.python_io.TFRecordWriter(self.tfrecord_path)  # 要生成的文件 \n",
    "        def get_labels(img_label):\n",
    "            labels = ['0','1','2','3','4','5','6','7','8','9',\n",
    "                       'A','B','C','D','E','F','G','H','I','J',\n",
    "                       'K','L','M','N','O','P','Q','R','S','T','U','V','W','X','Y','Z',\n",
    "                       'a','b','c','d','e','f','g','h','i','j','k','l','m','n','o','p',\n",
    "                       'q','r','s','t','u','v','w','x','y','z'\n",
    "                       ]\n",
    "            label2id = {} # 标签转id\n",
    "            id2label = {} # id转标签\n",
    "\n",
    "            for label in labels:\n",
    "                label2id[label] = len(label2id)\n",
    "            for label, id in label2id.items():\n",
    "                id2label[id] = label\n",
    "            l1, l2, l3, l4 = tuple(img_label[:4]) # 切分出验证码的四位标签\n",
    "            labels1 = label2id[l1]\n",
    "            labels2 = label2id[l2]\n",
    "            labels3 = label2id[l3]\n",
    "            labels4 = label2id[l4]\n",
    "            label1s = tf.keras.utils.to_categorical(labels1, num_classes=62)\n",
    "            label2s = tf.keras.utils.to_categorical(labels2, num_classes=62)\n",
    "            label3s = tf.keras.utils.to_categorical(labels3, num_classes=62)\n",
    "            label4s = tf.keras.utils.to_categorical(labels4, num_classes=62)\n",
    "            return np.array(label1s).astype(int), np.array(label2s).astype(int), np.array(label3s).astype(int), np.array(label4s).astype(int)\n",
    "        data_list = pd.read_csv(self.path+'train_label.csv',header=None)\n",
    "        for item in data_list[1:].values:  #遍历图片\n",
    "            img_path = self.path + item[0]\n",
    "            labels1, labels2, labels3, labels4 = get_labels(item[1])\n",
    "            img = cv2.imread(img_path)    \n",
    "            img_bytes=img.tostring()\n",
    "            example=tf.train.Example(features=tf.train.Features(feature={\n",
    "                'label1': tf.train.Feature(int64_list=tf.train.Int64List(value=labels1)),\n",
    "                'label2': tf.train.Feature(int64_list=tf.train.Int64List(value=labels2)),\n",
    "                'label3': tf.train.Feature(int64_list=tf.train.Int64List(value=labels3)),\n",
    "                'label4': tf.train.Feature(int64_list=tf.train.Int64List(value=labels4)),\n",
    "                'img': tf.train.Feature(bytes_list=tf.train.BytesList(value=[img_bytes]))\n",
    "            }))\n",
    "\n",
    "            writer.write(example.SerializeToString())  # 序列化为字符串并写入文件\n",
    "        writer.close()\n",
    "writer=TFRecordWriter('img_label_data.tfrecords',path)\n",
    "writer.write()"
   ]
  },
  {
   "cell_type": "code",
   "execution_count": 29,
   "metadata": {
    "ExecuteTime": {
     "end_time": "2019-11-22T00:56:36.737684Z",
     "start_time": "2019-11-22T00:56:11.505179Z"
    },
    "scrolled": true
   },
   "outputs": [
    {
     "name": "stdout",
     "output_type": "stream",
     "text": [
      "(4, 40, 120, 3)\n"
     ]
    },
    {
     "data": {
      "image/png": "[encoded data removed]",
      "text/plain": [
       "<Figure size 432x144 with 1 Axes>"
      ]
     },
     "metadata": {
      "needs_background": "light"
     },
     "output_type": "display_data"
    }
   ],
   "source": [
    "class TFRecordReader:\n",
    "    def __init__(self,tfrecord_path,batch_size):\n",
    "        self.batch_size=batch_size\n",
    "        self.tfrecord_path=tfrecord_path\n",
    "    def get(self):\n",
    "       # 根据文件名生成一个队列\n",
    "        file_path_queue = tf.train.string_input_producer([self.tfrecord_path]) \n",
    "        reader = tf.TFRecordReader()\n",
    "        _, serialized_example = reader.read(file_path_queue) \n",
    "        features = tf.parse_single_example(serialized_example,\n",
    "                                           features={\n",
    "                                               'label1': tf.FixedLenFeature([62], tf.int64),\n",
    "                                               'label2': tf.FixedLenFeature([62], tf.int64),\n",
    "                                               'label3': tf.FixedLenFeature([62], tf.int64),\n",
    "                                               'label4': tf.FixedLenFeature([62], tf.int64),\n",
    "                                               'img': tf.FixedLenFeature([], tf.string),})\n",
    "        # 读取label\n",
    "        label1 = tf.cast(features['label1'], tf.int64)  \n",
    "        label2 = tf.cast(features['label2'], tf.int64)  \n",
    "        label3 = tf.cast(features['label3'], tf.int64)  \n",
    "        label4 = tf.cast(features['label4'], tf.int64)  \n",
    "        \n",
    "        \n",
    "        img = tf.decode_raw(features['img'], tf.uint8)\n",
    "        #将维度指定为256*256的3通道\n",
    "        img = tf.reshape(img, [height,width, 3])\n",
    "         \n",
    "        #img = tf.image.random_saturation(img, 2.0, 10.0)    \n",
    "        img = tf.image.random_contrast(img, 0.0, 20.0)   \n",
    "        img_batch,label_batch1,label_batch2,label_batch3,label_batch4,=tf.train.shuffle_batch_join([[img,label1,label2,label3,label4,]],\n",
    "                                                  batch_size=self.batch_size,\n",
    "                                                  capacity=100,\n",
    "                                                  min_after_dequeue=20,\n",
    "                                                  enqueue_many=False)     \n",
    "        return img_batch,label_batch1,label_batch2,label_batch3,label_batch4,  \n",
    "        \n",
    "        \n",
    "\n",
    "#从6_5_1_datasets.tfrecords文件中读取数据，设置BatchSize为6\n",
    "dataReader=TFRecordReader('img_label_data.tfrecords',4)\n",
    "img_batch,label_batch1,label_batch2,label_batch3,label_batch4,=dataReader.get()\n",
    "\n",
    "\n",
    "\n",
    "with tf.Session() as sess: \n",
    "    coord = tf.train.Coordinator()\n",
    "    #启动所有队列线程，使得每个队列源源不断执行入队和出队\n",
    "    threads = tf.train.start_queue_runners(coord=coord)\n",
    "    imgs,labels1,labels2,labels3,labels4 = sess.run([img_batch,label_batch1,label_batch2,label_batch3,label_batch4]) \n",
    "    print(imgs.shape)\n",
    "    plt.figure(figsize=[6,2]) \n",
    "    plt.imshow(imgs[2,:,:,:])\n",
    "    \n",
    "    coord.request_stop()\n",
    "    coord.join(threads)    \n",
    "    "
   ]
  },
  {
   "cell_type": "code",
   "execution_count": null,
   "metadata": {},
   "outputs": [],
   "source": []
  },
  {
   "cell_type": "code",
   "execution_count": null,
   "metadata": {},
   "outputs": [],
   "source": []
  },
  {
   "cell_type": "code",
   "execution_count": null,
   "metadata": {},
   "outputs": [],
   "source": []
  },
  {
   "cell_type": "code",
   "execution_count": null,
   "metadata": {},
   "outputs": [],
   "source": []
  },
  {
   "cell_type": "code",
   "execution_count": null,
   "metadata": {},
   "outputs": [],
   "source": [
    "class YZDataReader:\n",
    "    def __init__(self,path,batch_size,hw_root,img_size =(120,40)):\n",
    "        self.hw_root = hw_root\n",
    "        self.batch_size = batch_size\n",
    "        self.img_size = img_size\n",
    "        self.path = self.path\n",
    "    def get_img_and_label(self):\n",
    "        kvs = tf.read_file(self.path+'train_label.csv')\n",
    "        \n",
    "        \n",
    "        "
   ]
  },
  {
   "cell_type": "code",
   "execution_count": null,
   "metadata": {},
   "outputs": [],
   "source": []
  },
  {
   "cell_type": "code",
   "execution_count": null,
   "metadata": {},
   "outputs": [],
   "source": []
  },
  {
   "cell_type": "code",
   "execution_count": null,
   "metadata": {},
   "outputs": [],
   "source": []
  },
  {
   "cell_type": "code",
   "execution_count": null,
   "metadata": {},
   "outputs": [],
   "source": []
  },
  {
   "cell_type": "code",
   "execution_count": null,
   "metadata": {},
   "outputs": [],
   "source": []
  },
  {
   "cell_type": "markdown",
   "metadata": {},
   "source": [
    "# 模型一构建"
   ]
  },
  {
   "cell_type": "code",
   "execution_count": null,
   "metadata": {},
   "outputs": [],
   "source": [
    "import tensorflow as tf\n",
    "\n",
    "def conv(in_tensor, layer_name, k, s, out_c, is_training=True,with_bias=False,use_bn=True,relu=tf.nn.relu6 ):\n",
    " \n",
    "\n",
    "\n",
    "    with tf.variable_scope(layer_name):\n",
    "        in_size = in_tensor.get_shape().as_list() \n",
    "        ss = [1, s, s, 1]\n",
    "        kernel_shape = [k, k, in_size[3], out_c] \n",
    "        # conv\n",
    "        kernel = tf.get_variable('weights', kernel_shape, tf.float32,\n",
    "                                 tf.contrib.layers.xavier_initializer_conv2d(), trainable=is_training, collections=['wd', 'variables', 'filters'])\n",
    "\n",
    "        \n",
    "        x = tf.nn.conv2d(in_tensor , kernel , ss, padding='SAME') \n",
    "        print(x)\n",
    "        \n",
    "        \n",
    "        # bias\n",
    "        if with_bias:\n",
    "            biases = tf.get_variable('biases', [kernel_shape[3]], tf.float32,\n",
    "                                    tf.constant_initializer(0.0001), trainable=is_training, collections=['wd', 'variables', 'biases']) \n",
    "            x = tf.nn.bias_add(x, biases, name='bias')\n",
    "        \n",
    "        \n",
    "        if use_bn:\n",
    "            x=batch_norm(x,is_training=is_training)\n",
    "            \n",
    "            \n",
    "        if not relu is None:\n",
    "            x=relu(x,\"Relu6\")\n",
    "        return x\n",
    "    \n",
    "\n",
    "    \n",
    "    \n",
    "    \n",
    "def batch_norm(in_tensor, is_training):  \n",
    "    return tf.contrib.layers.batch_norm(in_tensor,\n",
    "                                        center=True,\n",
    "                                        decay=0.9997,\n",
    "                                        scale=True,\n",
    "                                        epsilon=0.001,\n",
    "                                        activation_fn=None,\n",
    "                                        #updates_collections=None,\n",
    "                                        is_training=is_training) \n",
    "def max_pool(in_tensor, name='max_pool'):\n",
    "    pooled = tf.nn.max_pool(in_tensor, ksize=[1, 2, 2, 1], ss=[1, 2, 2, 1],\n",
    "                            padding='VALID', name=name)\n",
    "    print(pooled)\n",
    "    return pooled\n",
    "\n",
    "def global_pool(input_tensor, pool_op=tf.nn.avg_pool):\n",
    "    \"\"\"Applies avg pool to produce 1x1 output.\n",
    "    NOTE: This function is funcitonally equivalenet to reduce_mean, but it has\n",
    "    baked in average pool which has better support across hardware.\n",
    "    Args:\n",
    "    input_tensor: input tensor\n",
    "    pool_op: pooling op (avg pool is default)\n",
    "    Returns:\n",
    "    a tensor batch_size x 1 x 1 x depth.\n",
    "    \"\"\"\n",
    "    shape = input_tensor.get_shape().as_list()\n",
    "    if shape[1] is None or shape[2] is None:\n",
    "        k = tf.convert_to_tensor(\n",
    "            [1, tf.shape(input_tensor)[1],\n",
    "             tf.shape(input_tensor)[2], 1])\n",
    "    else:\n",
    "        k = [1, shape[1], shape[2], 1]\n",
    "        output = pool_op(\n",
    "          input_tensor, ksize=k, strides=[1, 1, 1, 1], padding='VALID')\n",
    "        # Recover output shape, for unknown shape.\n",
    "        output.set_shape([None, 1, 1, None])\n",
    "    return output\n",
    "#Depthwise+Pointwise\n",
    "def DepthSepConv(in_tensor, layer_name, k, s, out_c, is_training=True,relu=tf.nn.relu6):\n",
    "    with tf.variable_scope(layer_name+'_depthwise'):\n",
    "        in_size = in_tensor.get_shape().as_list() \n",
    "        #depwise conv\n",
    "        ss = [1, s, s, 1]\n",
    "        #dw_kernel_shape=[filter_height, filter_width, in_channels, channel_multiplier]\n",
    "        dw_kernel_shape = [k, k, in_size[3], 1] \n",
    "        dw_kernel = tf.get_variable('depthwise_weights', dw_kernel_shape, tf.float32,\n",
    "                                 tf.contrib.layers.xavier_initializer_conv2d(), trainable=is_training, collections=['wd', 'variables', 'filters'])\n",
    "       \n",
    "        x=tf.nn.depthwise_conv2d( in_tensor, dw_kernel, ss, padding='SAME',  name= layer_name+'_depthwise') \n",
    "        x=batch_norm(x,is_training=is_training)\n",
    "        x=relu(x,\"Relu6\")\n",
    "        print(x)\n",
    "    with tf.variable_scope(layer_name+'_pointwise'):    \n",
    "        #pointwise conv\n",
    "        pw_kernel_shape = [1, 1, in_size[3], out_c] \n",
    "        pw_kernel = tf.get_variable('weights', pw_kernel_shape, tf.float32, tf.contrib.layers.xavier_initializer_conv2d(), trainable=is_training, collections=['wd', 'variables', 'filters'])\n",
    "        \n",
    "        x = tf.nn.conv2d(x, pw_kernel, [1,1,1,1], padding='SAME') \n",
    "        x=batch_norm(x,is_training=is_training)\n",
    "        x=relu(x,\"Relu6\")\n",
    "        print(x)\n",
    "        return x\n",
    "\"\"\"\n",
    "MobileNet_V2中的Block实现，\n",
    "代码参考自https://github.com/tensorflow/models/blob/master/research/slim/nets/mobilenet/mobilenet_v2.py\n",
    "\"\"\"\n",
    "def make_divisible(v, divisor, min_value=None):\n",
    "    if min_value is None:\n",
    "        min_value = divisor\n",
    "    new_v = max(min_value, int(v + divisor / 2) // divisor * divisor)\n",
    "    # Make sure that round down does not go down by more than 10%.\n",
    "    if new_v < 0.9 * v:\n",
    "        new_v += divisor\n",
    "    return new_v\n",
    "#mobile net V2\n",
    "def expanded_conv(in_tensor, layer_name, k, s, out_c,expand_rate, is_training=True,relu=tf.nn.relu6 ):\n",
    "    in_size = in_tensor.get_shape().as_list() \n",
    "    expansion_size = make_divisible(in_size[3] * expand_rate, 8)\n",
    "    x=in_tensor\n",
    "    if expansion_size>in_size[3]:\n",
    "        with tf.variable_scope(layer_name+'_expand'):   \n",
    "            #pointwise conv\n",
    "            pw_kernel_shape = [1, 1, in_size[3], expansion_size] \n",
    "            pw_kernel = tf.get_variable('weights', pw_kernel_shape, tf.float32, tf.contrib.layers.xavier_initializer_conv2d(), trainable=is_training, collections=['wd', 'variables', 'filters'])\n",
    "            \n",
    "            x = tf.nn.conv2d(in_tensor, pw_kernel, [1,1,1,1], padding='SAME') \n",
    "            x=batch_norm(x,is_training=is_training)\n",
    "            x=relu(x,\"Relu6\")\n",
    "            print(x) \n",
    "    with tf.variable_scope(layer_name+'_depthwise'):\n",
    "       \n",
    "        #depwise conv\n",
    "        ss = [1, s, s, 1]\n",
    "        #dw_kernel_shape=[filter_height, filter_width, in_channels, channel_multiplier]\n",
    "        dw_kernel_shape = [k, k, x.get_shape().as_list()[3], 1] \n",
    "        dw_kernel = tf.get_variable('depthwise_weights', dw_kernel_shape, tf.float32,\n",
    "                                 tf.contrib.layers.xavier_initializer_conv2d(), trainable=is_training, collections=['wd', 'variables', 'filters'])\n",
    "        \n",
    "        x=tf.nn.depthwise_conv2d( x, dw_kernel, ss, padding='SAME',  name= layer_name+'_depthwise') \n",
    "        x=batch_norm(x,is_training=is_training)\n",
    "        x=relu(x,\"Relu6\")\n",
    "        print(x)\n",
    "    \n",
    "    with tf.variable_scope(layer_name+'_project'):    \n",
    "        #pointwise conv\n",
    "        pw_kernel_shape = [1, 1, x.get_shape().as_list()[3], out_c] \n",
    "        pw_kernel = tf.get_variable('weights', pw_kernel_shape, tf.float32, tf.contrib.layers.xavier_initializer_conv2d(), trainable=is_training, collections=['wd', 'variables', 'filters'])\n",
    "        \n",
    "        x = tf.nn.conv2d(x, pw_kernel, [1,1,1,1], padding='SAME') \n",
    "        x=batch_norm(x,is_training=is_training) \n",
    "        print(x)\n",
    "    if s==1 and out_c==in_size[3]:\n",
    "        return in_tensor + x\n",
    "    return x "
   ]
  },
  {
   "cell_type": "code",
   "execution_count": null,
   "metadata": {},
   "outputs": [],
   "source": []
  },
  {
   "cell_type": "code",
   "execution_count": null,
   "metadata": {},
   "outputs": [],
   "source": []
  },
  {
   "cell_type": "code",
   "execution_count": null,
   "metadata": {},
   "outputs": [],
   "source": []
  },
  {
   "cell_type": "code",
   "execution_count": null,
   "metadata": {},
   "outputs": [],
   "source": []
  }
 ],
 "metadata": {
  "kernelspec": {
   "display_name": "Python 3",
   "language": "python",
   "name": "python3"
  },
  "language_info": {
   "codemirror_mode": {
    "name": "ipython",
    "version": 3
   },
   "file_extension": ".py",
   "mimetype": "text/x-python",
   "name": "python",
   "nbconvert_exporter": "python",
   "pygments_lexer": "ipython3",
   "version": "3.6.8"
  },
  "varInspector": {
   "cols": {
    "lenName": 16,
    "lenType": 16,
    "lenVar": 40
   },
   "kernels_config": {
    "python": {
     "delete_cmd_postfix": "",
     "delete_cmd_prefix": "del ",
     "library": "var_list.py",
     "varRefreshCmd": "print(var_dic_list())"
    },
    "r": {
     "delete_cmd_postfix": ") ",
     "delete_cmd_prefix": "rm(",
     "library": "var_list.r",
     "varRefreshCmd": "cat(var_dic_list()) "
    }
   },
   "types_to_exclude": [
    "module",
    "function",
    "builtin_function_or_method",
    "instance",
    "_Feature"
   ],
   "window_display": false
  }
 },
 "nbformat": 4,
 "nbformat_minor": 2
}
